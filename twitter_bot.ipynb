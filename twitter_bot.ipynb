{
  "nbformat": 4,
  "nbformat_minor": 0,
  "metadata": {
    "colab": {
      "provenance": [],
      "authorship_tag": "ABX9TyMzv616p7lQWwfAiW/q/QHU",
      "include_colab_link": true
    },
    "kernelspec": {
      "name": "python3",
      "display_name": "Python 3"
    },
    "language_info": {
      "name": "python"
    }
  },
  "cells": [
    {
      "cell_type": "markdown",
      "metadata": {
        "id": "view-in-github",
        "colab_type": "text"
      },
      "source": [
        "<a href=\"https://colab.research.google.com/github/ZenoVka-Vestraq/Cyclistic-Bike-Share/blob/main/twitter_bot.ipynb\" target=\"_parent\"><img src=\"https://colab.research.google.com/assets/colab-badge.svg\" alt=\"Open In Colab\"/></a>"
      ]
    },
    {
      "cell_type": "markdown",
      "source": [
        "Install Dependencies"
      ],
      "metadata": {
        "id": "GBl0v6DdIqeS"
      }
    },
    {
      "cell_type": "code",
      "source": [
        "pip install tweepy\n",
        "pip install configparser\n",
        "pip install pandas"
      ],
      "metadata": {
        "id": "9vwUrGftGQWm"
      },
      "execution_count": null,
      "outputs": []
    },
    {
      "cell_type": "markdown",
      "source": [
        "Import Dependencies"
      ],
      "metadata": {
        "id": "XjGDvicpIviZ"
      }
    },
    {
      "cell_type": "code",
      "execution_count": null,
      "metadata": {
        "id": "hL84kqQAA-Th"
      },
      "outputs": [],
      "source": [
        "import tweepy as tp\n",
        "import configparser as cp\n",
        "import pandas as pd"
      ]
    },
    {
      "cell_type": "markdown",
      "source": [
        "Use the configparser.ConfigParser() class to read the values from the config.ini file."
      ],
      "metadata": {
        "id": "GXzEl3YKIyeo"
      }
    },
    {
      "cell_type": "code",
      "source": [
        "config = configparser.ConfigParser()\n",
        "config.read('config.ini')"
      ],
      "metadata": {
        "id": "aKgTUR09HiDk"
      },
      "execution_count": null,
      "outputs": []
    },
    {
      "cell_type": "code",
      "source": [
        "api_key = config['twitter']['api_key']\n",
        "api_secret = config['twitter']['api_secret']\n",
        "\n",
        "access_token = config['twitter']['access_token']\n",
        "access_token_secret = config['twitter']['access_token_secret']"
      ],
      "metadata": {
        "id": "mopnztMTIVKi"
      },
      "execution_count": null,
      "outputs": []
    },
    {
      "cell_type": "markdown",
      "source": [
        "Authenticate keys and secrets"
      ],
      "metadata": {
        "id": "daS5OJKpJRDK"
      }
    },
    {
      "cell_type": "code",
      "source": [
        "auth = tp.OAuthHandler(api_key, api_secret)\n",
        "auth.set_access_token(access_token,access_token_secret)\n",
        "\n",
        "api = tp.API(auth)"
      ],
      "metadata": {
        "id": "2rSLCSneJSkR"
      },
      "execution_count": null,
      "outputs": []
    },
    {
      "cell_type": "markdown",
      "source": [
        "Create dataframe to house data scraped"
      ],
      "metadata": {
        "id": "k1-OzkmSJWVx"
      }
    },
    {
      "cell_type": "code",
      "source": [
        "columns = ['Time', 'User', 'Tweet']\n",
        "data = []\n",
        "for tweet in public_tweets:\n",
        "    data.append([tweet.created_at, tweet.user.screen_name, tweet.text])\n",
        "\n",
        "user_tweets = pd.DataFrame(data, columns=columns)"
      ],
      "metadata": {
        "id": "aKG7MtiaJfPq"
      },
      "execution_count": null,
      "outputs": []
    },
    {
      "cell_type": "markdown",
      "source": [
        "Display the results in dataframe format"
      ],
      "metadata": {
        "id": "uea1HMWYJhb5"
      }
    },
    {
      "cell_type": "code",
      "source": [
        "print(user_tweets)\n"
      ],
      "metadata": {
        "id": "HV8OovykJlXx"
      },
      "execution_count": null,
      "outputs": []
    }
  ]
}